{
  "nbformat": 4,
  "nbformat_minor": 0,
  "metadata": {
    "colab": {
      "provenance": [],
      "authorship_tag": "ABX9TyOfRVRZPhgjjlOiUKyIeL/e",
      "include_colab_link": true
    },
    "kernelspec": {
      "name": "python3",
      "display_name": "Python 3"
    },
    "language_info": {
      "name": "python"
    }
  },
  "cells": [
    {
      "cell_type": "markdown",
      "metadata": {
        "id": "view-in-github",
        "colab_type": "text"
      },
      "source": [
        "<a href=\"https://colab.research.google.com/github/RicardoPD123/Thermodynamics/blob/main/Temperature_calc_for_multicomponent_systems.ipynb\" target=\"_parent\"><img src=\"https://colab.research.google.com/assets/colab-badge.svg\" alt=\"Open In Colab\"/></a>"
      ]
    },
    {
      "cell_type": "markdown",
      "source": [
        "Definiendo la sustancia"
      ],
      "metadata": {
        "id": "r3ofY7OqmNU4"
      }
    },
    {
      "cell_type": "code",
      "execution_count": null,
      "metadata": {
        "colab": {
          "base_uri": "https://localhost:8080/"
        },
        "id": "E0Nrcuaui6cp",
        "outputId": "80c358b9-a58e-4bd6-bc53-77b5a40644bb"
      },
      "outputs": [
        {
          "output_type": "stream",
          "name": "stdout",
          "text": [
            "Ingrese la sustancia a trabajar: Butano\n",
            "¿La sustancia a trabajar es Butano? (y/n)y\n",
            "Sustancia confirmada\n"
          ]
        }
      ],
      "source": [
        "Sustancia = str(input('Ingrese la sustancia a trabajar: '))\n",
        "Sus_Confirm = input(f'¿La sustancia a trabajar es {Sustancia}? (y/n)')\n",
        "if Sus_Confirm == 'n':\n",
        "  while Sus_Confirm == 'n':\n",
        "    if Sus_Confirm == 'n':\n",
        "      Sustancia = str(input('Ingrese la sustancia a trabajar: '))\n",
        "      Sus_Confirm = input(f'¿La sustancia a trabajar es {Sustancia}? (y/n)')\n",
        "    if Sus_Confirm == 'y':\n",
        "      print(f'Sustancia confirmada')\n",
        "if Sus_Confirm == 'y':\n",
        "  print(f'Sustancia confirmada')\n"
      ]
    },
    {
      "cell_type": "markdown",
      "source": [
        "Definiendo las constantes A,B,C y D"
      ],
      "metadata": {
        "id": "iQg0cJEwmTYe"
      }
    },
    {
      "cell_type": "code",
      "source": [
        "A = float(input('Ingrese el valor de A en notación científica(5E+2) o general(500): '))\n",
        "\n",
        "A_Confirm = input(f'¿El valor de A es {A}? (y/n)')\n",
        "if A_Confirm == 'n':\n",
        "  while A_Confirm == 'n':\n",
        "    if A_Confirm == 'n':\n",
        "      A = float(input('Ingrese el valor de A en notación científica(5E+2) o general(500): '))\n",
        "      A_Confirm = input(f'¿El valor de A es {A}? (y/n)')\n",
        "    if A_Confirm == 'y':\n",
        "      print(f'Valor confirmado')\n",
        "if A_Confirm == 'y':\n",
        " print(f'Valor confirmado')\n",
        "\n",
        "\n",
        "B = float(input('Ingrese el valor de B en notación científica(5E+2) o general(500): '))\n",
        "\n",
        "B_Confirm = input(f'¿El valor de B es {B}? (y/n)')\n",
        "if B_Confirm == 'n':\n",
        "  while B_Confirm == 'n':\n",
        "    if B_Confirm == 'n':\n",
        "      B = float(input('Ingrese el valor de B en notación científica(5E+2) o general(500): '))\n",
        "      B_Confirm = input(f'¿El valor de B es {B}? (y/n)')\n",
        "    if B_Confirm == 'y':\n",
        "      print(f'Valor confirmado')\n",
        "if B_Confirm == 'y':\n",
        " print(f'Valor confirmado')\n",
        "\n",
        "\n",
        "C = float(input('Ingrese el valor de C en notación científica(5E+2) o general(500): '))\n",
        "\n",
        "C_Confirm = input(f'¿El valor de C es {C}? (y/n)')\n",
        "if C_Confirm == 'n':\n",
        "  while C_Confirm == 'n':\n",
        "    if C_Confirm == 'n':\n",
        "      C = float(input('Ingrese el valor de C en notación científica(5E+2) o general(500): '))\n",
        "      C_Confirm = input(f'¿El valor de C es {C}? (y/n)')\n",
        "    if C_Confirm == 'y':\n",
        "      print(f'Valor confirmado')\n",
        "if C_Confirm == 'y':\n",
        " print(f'Valor confirmado')\n",
        "\n",
        "\n",
        "D = float(input('Ingrese el valor de D en notación científica(5E+2) o general(500): '))\n",
        "\n",
        "D_Confirm = input(f'¿El valor de D es {D}? (y/n)')\n",
        "if D_Confirm == 'n':\n",
        "  while D_Confirm == 'n':\n",
        "    if D_Confirm == 'n':\n",
        "      D = float(input('Ingrese el valor de D en notación científica(5E+2) o general(500): '))\n",
        "      D_Confirm = input(f'¿El valor de D es {D}? (y/n)')\n",
        "    if D_Confirm == 'y':\n",
        "      print(f'Valor confirmado')\n",
        "if D_Confirm == 'y':\n",
        " print(f'Valor confirmado')"
      ],
      "metadata": {
        "colab": {
          "base_uri": "https://localhost:8080/"
        },
        "id": "tR96eZvnmXNa",
        "outputId": "786fab27-ae92-4759-9b35-5c74d555afb6"
      },
      "execution_count": null,
      "outputs": [
        {
          "name": "stdout",
          "output_type": "stream",
          "text": [
            "Ingrese el valor de A en notación científica(5E+2) o general(500): 1\n",
            "¿El valor de A es 1.0? (y/n)y\n",
            "Valor confirmado\n",
            "Ingrese el valor de B en notación científica(5E+2) o general(500): 3\n"
          ]
        }
      ]
    },
    {
      "cell_type": "markdown",
      "source": [
        "Definiendo Q,T1 y n"
      ],
      "metadata": {
        "id": "34xGwWjumb5N"
      }
    },
    {
      "cell_type": "code",
      "source": [
        "Q = float(input('Ingrese el valor de Q(J): '))\n",
        "\n",
        "Q_Confirm = input(f'¿El valor de Q es {Q}? (y/n)')\n",
        "if Q_Confirm == 'n':\n",
        "  while Q_Confirm == 'n':\n",
        "    if Q_Confirm == 'n':\n",
        "      Q = float(input('Ingrese el valor de Q en notación científica(5E+2) o general(500): '))\n",
        "      Q_Confirm = input(f'¿El valor de Q es {Q}? (y/n)')\n",
        "    if Q_Confirm == 'y':\n",
        "      print(f'Valor confirmado')\n",
        "if Q_Confirm == 'y':\n",
        " print(f'Valor confirmado')\n",
        "\n",
        "\n",
        "T1 = float(input('Ingrese el valor de T1(K): '))\n",
        "\n",
        "T1_Confirm = input(f'¿El valor de T1 es {T1}? (y/n)')\n",
        "if T1_Confirm == 'n':\n",
        "  while T1_Confirm == 'n':\n",
        "    if T1_Confirm == 'n':\n",
        "      T1 = float(input('Ingrese el valor de T1 en notación científica(5E+2) o general(500): '))\n",
        "      T1_Confirm = input(f'¿El valor de T1 es {T1}? (y/n)')\n",
        "    if T1_Confirm == 'y':\n",
        "      print(f'Valor confirmado')\n",
        "if T1_Confirm == 'y':\n",
        " print(f'Valor confirmado')\n",
        "\n",
        "\n",
        "n = float(input('Ingrese el valor de n(mol): '))\n",
        "\n",
        "n_Confirm = input(f'¿El valor de n es {n}? (y/n)')\n",
        "if n_Confirm == 'n':\n",
        "  while n_Confirm == 'n':\n",
        "    if n_Confirm == 'n':\n",
        "      n = float(input('Ingrese el valor de n en notación científica(5E+2) o general(500): '))\n",
        "      n_Confirm = input(f'¿El valor de n es {n}? (y/n)')\n",
        "    if n_Confirm == 'y':\n",
        "      print(f'Valor confirmado')\n",
        "if n_Confirm == 'y':\n",
        " print(f'Valor confirmado')"
      ],
      "metadata": {
        "colab": {
          "base_uri": "https://localhost:8080/"
        },
        "id": "GS8m2otImel4",
        "outputId": "6fa28c2c-5939-488e-8bdd-97f85e4a17b9"
      },
      "execution_count": null,
      "outputs": [
        {
          "name": "stdout",
          "output_type": "stream",
          "text": [
            "Ingrese el valor de Q(J): 320000\n",
            "¿El valor de Q es 320000.0? (y/n)Y\n",
            "Ingrese el valor de T1(K): 723\n",
            "¿El valor de T1 es 723.0? (y/n)Y\n",
            "Ingrese el valor de n(mol): 17\n",
            "¿El valor de n es 17.0? (y/n)Y\n"
          ]
        }
      ]
    },
    {
      "cell_type": "markdown",
      "source": [
        "Calculando delta H"
      ],
      "metadata": {
        "id": "pwGmZMZimqdn"
      }
    },
    {
      "cell_type": "code",
      "source": [
        "dH = Q/n\n",
        "print(f'El valor de delta H es {dH}')"
      ],
      "metadata": {
        "colab": {
          "base_uri": "https://localhost:8080/"
        },
        "id": "Pg1si59wmtQa",
        "outputId": "25dac7ab-ce61-4843-cdb1-626fc6130c56"
      },
      "execution_count": null,
      "outputs": [
        {
          "output_type": "stream",
          "name": "stdout",
          "text": [
            "18823.529411764706\n"
          ]
        }
      ]
    },
    {
      "cell_type": "markdown",
      "source": [
        "Definiendo T2sup"
      ],
      "metadata": {
        "id": "_IQSdp35m8RG"
      }
    },
    {
      "cell_type": "code",
      "source": [
        "#Condicional para que si T2 no es mayor a T1, de un error\n",
        "T2S = float(input('Ingrese algún valor para T2sup: '))\n",
        "T2S_Confirm = input(f'¿El valor de T2sup es {T2S}? (y/n)')\n",
        "if T2S_Confirm == 'n':\n",
        "  while T2S_Confirm == 'n':\n",
        "    if T2S_Confirm == 'n':\n",
        "      T2S = float(input('Ingrese algún valor para T2sup: '))\n",
        "      T2S_Confirm = input(f'¿El valor de T2S es {T2S}? (y/n)')\n",
        "    if T2S_Confirm == 'y':\n",
        "      if T2S < T1:\n",
        "        print(f'Error, el valor de T2S debe ser mayor al de T1 ({T1})')\n",
        "      else:\n",
        "        print(f'Valor confirmado')\n",
        "if T2S_Confirm == 'y':\n",
        "      if T2S < T1:\n",
        "        print(f'Error, el valor de T2S debe ser mayor al de T1 ({T1})')\n",
        "      else:\n",
        "        print(f'Valor confirmado')"
      ],
      "metadata": {
        "colab": {
          "base_uri": "https://localhost:8080/"
        },
        "id": "Ekp4sGC5m7sB",
        "outputId": "3cf308ae-df2a-4fcf-c3e6-6cc8144e53cf"
      },
      "execution_count": null,
      "outputs": [
        {
          "output_type": "stream",
          "name": "stdout",
          "text": [
            "Ingrese algún valor para T2sup: 950\n",
            "¿El valor de T2sup es 950.0? (y/n)y\n",
            "Valor confirmado\n"
          ]
        }
      ]
    },
    {
      "cell_type": "markdown",
      "source": [
        "Calculando TMA"
      ],
      "metadata": {
        "id": "r4M9uBhunZB-"
      }
    },
    {
      "cell_type": "code",
      "source": [
        "TMA = (T2S + T1)/2"
      ],
      "metadata": {
        "colab": {
          "base_uri": "https://localhost:8080/"
        },
        "id": "uML1JtUxnf5m",
        "outputId": "45e863e1-007f-4cad-e42b-a8753b43e1c5"
      },
      "execution_count": null,
      "outputs": [
        {
          "output_type": "stream",
          "name": "stdout",
          "text": [
            "836.5\n"
          ]
        }
      ]
    },
    {
      "cell_type": "markdown",
      "source": [
        "Calculando Cphm"
      ],
      "metadata": {
        "id": "VJGFHykCn19c"
      }
    },
    {
      "cell_type": "code",
      "source": [
        "Cphm = A + B*TMA + (C/3)*(4*(TMA**2) - T2S*T1) + D*(2*(TMA**3) - TMA*T2S*T1)"
      ],
      "metadata": {
        "colab": {
          "base_uri": "https://localhost:8080/"
        },
        "id": "i8VCMZaGnp6N",
        "outputId": "41653aba-7ab6-4e7d-ce5a-9436fcf9c755"
      },
      "execution_count": null,
      "outputs": [
        {
          "output_type": "stream",
          "name": "stdout",
          "text": [
            "37.220079555830836\n"
          ]
        }
      ]
    },
    {
      "cell_type": "markdown",
      "source": [
        "Calculando T2N"
      ],
      "metadata": {
        "id": "rSqpzU3ypEnE"
      }
    },
    {
      "cell_type": "code",
      "source": [
        "T2N = (dH/Cphm) + T1"
      ],
      "metadata": {
        "colab": {
          "base_uri": "https://localhost:8080/"
        },
        "id": "1poRPVPopMPd",
        "outputId": "b7fc4b22-2d44-404b-a107-ee1fe76da29e"
      },
      "execution_count": null,
      "outputs": [
        {
          "output_type": "stream",
          "name": "stdout",
          "text": [
            "1228.7358725826755\n"
          ]
        }
      ]
    },
    {
      "cell_type": "markdown",
      "source": [
        "Verificando si |T2N - T2| =< E (0.00001)"
      ],
      "metadata": {
        "id": "NyXIQ4C8pXMB"
      }
    },
    {
      "cell_type": "code",
      "source": [
        "while abs(T2N-T2S) > 0.0001 :\n",
        "  if abs(T2N-T2S) > 0.0001 :\n",
        "    T2S = T2N\n",
        "    TMA = (T1+T2S)/2\n",
        "    Cphm = A + B*TMA + (C/3)*(4*(TMA**2) - T2S*T1) + D*(2*(TMA**3) - TMA*T2S*T1)\n",
        "    T2N = (dH/Cphm) + T1\n",
        "\n",
        "  if abs(T2N-T2S) <= 0.0001 :\n",
        "   print(f'El valor de T2 es {T2N}')"
      ],
      "metadata": {
        "colab": {
          "base_uri": "https://localhost:8080/"
        },
        "id": "uH7ofu-Spno6",
        "outputId": "30e0e35c-c3c3-4d1f-fcb9-26e74bca0216"
      },
      "execution_count": null,
      "outputs": [
        {
          "output_type": "stream",
          "name": "stdout",
          "text": [
            "El valor de T2 es 1223.4451618245344\n"
          ]
        }
      ]
    },
    {
      "cell_type": "code",
      "source": [
        "input('Presione enter para cerrar el programa')"
      ],
      "metadata": {
        "colab": {
          "base_uri": "https://localhost:8080/",
          "height": 53
        },
        "id": "vIOQCGX3Curi",
        "outputId": "807fb103-cc53-488b-db0b-209e35bcd9df"
      },
      "execution_count": null,
      "outputs": [
        {
          "name": "stdout",
          "output_type": "stream",
          "text": [
            "Presione enter para cerrar el programa\n"
          ]
        },
        {
          "output_type": "execute_result",
          "data": {
            "text/plain": [
              "''"
            ],
            "application/vnd.google.colaboratory.intrinsic+json": {
              "type": "string"
            }
          },
          "metadata": {},
          "execution_count": 90
        }
      ]
    }
  ]
}